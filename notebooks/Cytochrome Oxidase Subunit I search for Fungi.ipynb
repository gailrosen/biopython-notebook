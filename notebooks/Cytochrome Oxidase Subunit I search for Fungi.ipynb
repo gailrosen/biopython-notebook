{
 "cells": [
  {
   "cell_type": "code",
   "execution_count": 33,
   "metadata": {
    "collapsed": true
   },
   "outputs": [],
   "source": [
    "'''\n",
    "\n",
    "Retrieve Genbank entries from the nucleotide database at NCBI.\n",
    "\n",
    "-----------------------------------------------------------\n",
    "(c) 2013 Allegra Via and Kristian Rother\n",
    "    Licensed under the conditions of the Python License\n",
    "\n",
    "    This code appears in section 20.4.3 of the book\n",
    "    \"Managing Biological Data with Python\".\n",
    "-----------------------------------------------------------\n",
    "\n",
    "Modified by Gail Rosen for Biological Data Science Workshop on 6/16/21\n",
    "'''\n",
    "\n",
    "from Bio import Entrez\n",
    "from Bio import SeqIO\n",
    "from Bio.Seq import Seq\n",
    "from Bio.SeqRecord import SeqRecord\n",
    "from Bio.Alphabet import generic_dna, generic_protein"
   ]
  },
  {
   "cell_type": "code",
   "execution_count": 34,
   "metadata": {
    "collapsed": true
   },
   "outputs": [],
   "source": [
    "Entrez.email = 'glr26@drexel.edu'"
   ]
  },
  {
   "cell_type": "code",
   "execution_count": 35,
   "metadata": {
    "collapsed": true
   },
   "outputs": [],
   "source": [
    "all_records=[]"
   ]
  },
  {
   "cell_type": "code",
   "execution_count": 44,
   "metadata": {
    "collapsed": false
   },
   "outputs": [
    {
     "name": "stdout",
     "output_type": "stream",
     "text": [
      "134\n",
      "These are the ID Numbers chosen:  ['2027921680', '1419039330', '1833534572', '1069865990', '1418980243', '1383863664', '1383821680', '389646782', '212544747', '1778663160', '1701862139', '1678300228', '1655371837', '1655371828', '1655371806', '1624799536', '46496691', '38353103', '38352297', '30401551', '38356031', '1423539693', '1422746175', '1422724147', '1422630398', '1419170847', '1419157519', '1419134766', '1419086786', '1419056480', '1419006388', '1390379229', '815889166', '685417770', '1195855765', '1044897081', '1044897080', '48526543', '48526539', '2738523', '294042', '12751551', '971493373', '971493372', '971493371', '971493370', '971493369', '971493368', '971493367', '971493366', '971493365', '971493364', '971493363', '971493362', '971493361', '971493360', '971493359', '13639', '686482741', '667481203', '390607153', '374110326', '219964435', '219964458', '219964457', '219964456', '219964455', '219964453', '219964451', '219964449', '219964446', '219964444', '219964442', '219964441', '219964437', '219964431', '219964429', '219964427', '218138615', '218138614', '218138613', '218138612', '218138611', '218138610', '218138609', '218138608', '218138616', '172129', '2183239', '219964426', '67044146', '242813360', '1213617', '663231', '14235', '13523', '13018', '38304058', '12207663', '12207385', '12206328', '12155660', '12155339', '12150186', '13648', '13637', '4005', '12224753', '12217252', '12217202', '12215536', '12213649', '12211920', '12211333', '12204865', '12204322', '12203400', '12187922', '12182053', '12174319', '12170786', '12168387', '12149592', '12143326', '12144794', '12147008', '12147006', '12146294', '12144996', '12144994', '14227', '12710', '4003', '343796']\n"
     ]
    }
   ],
   "source": [
    "# search sequences by a combination of keywords\n",
    "handle1=Entrez.esearch(db=\"nucleotide\", term=\"(cox1 OR coxi) AND fungi[ORGN] AND 450:30000[SLEN] NOT \\\"complete genome\\\" NOT partial NOT \\\"whole genome\\\"\",retmax=200)\n",
    "records = Entrez.read(handle1)\n",
    "print(len(records['IdList']))\n",
    "ids_list=records['IdList'];\n",
    "print(\"These are the ID Numbers chosen: \",ids_list)\n",
    "#all_records.append(records['IdList'])"
   ]
  },
  {
   "cell_type": "code",
   "execution_count": 87,
   "metadata": {
    "collapsed": false
   },
   "outputs": [],
   "source": [
    "# retrieve the sequences by their GI numbers\n",
    "#ids_list = ','.join(str(v) for v in all_records)\n",
    "handle = Entrez.efetch(db=\"nucleotide\", id=ids_list, rettype=\"gb\", retmode=\"xml\", retmax = len(ids_list))\n",
    "my_genbank_records = Entrez.read(handle)\n",
    "handle.close()"
   ]
  },
  {
   "cell_type": "code",
   "execution_count": 88,
   "metadata": {
    "collapsed": false
   },
   "outputs": [
    {
     "name": "stdout",
     "output_type": "stream",
     "text": [
      "My first fungi:  Aspergillus fijiensis CBS 313.89 and its accession number:  XM_040944842\n"
     ]
    }
   ],
   "source": [
    "#print These are the organisms that it first found\n",
    "print(\"My first fungi: \",my_genbank_records[0]['GBSeq_organism'],\"and its accession number: \",my_genbank_records[0]['GBSeq_primary-accession'])"
   ]
  },
  {
   "cell_type": "code",
   "execution_count": 89,
   "metadata": {
    "collapsed": true
   },
   "outputs": [],
   "source": [
    "#We can output the genbank files directly to a file and to go further, we to convert Genbank to FASTA\n",
    "my_fasta_records=[]\n",
    "for i in range(len(my_genbank_records)):\n",
    "\tmy_fasta_records.append(SeqRecord(Seq(my_genbank_records[i]['GBSeq_sequence']),id=my_genbank_records[i]['GBSeq_primary-accession'],description=my_genbank_records[i]['GBSeq_definition']))"
   ]
  },
  {
   "cell_type": "code",
   "execution_count": 90,
   "metadata": {
    "collapsed": false
   },
   "outputs": [],
   "source": [
    "#This can output one file\n",
    "one_file=open(\"my_seqs.fa\",\"w\")\n",
    "SeqIO.write(my_fasta_records, one_file, \"fasta\")\n",
    "one_file.close()"
   ]
  },
  {
   "cell_type": "code",
   "execution_count": 91,
   "metadata": {
    "collapsed": false
   },
   "outputs": [],
   "source": [
    "#To output file as Genbank files, it's easier to refetch as text and output it\n",
    "one_file=open(\"my_seqs.gb\",\"w\")\n",
    "handle = Entrez.efetch(db=\"nucleotide\", id=ids_list, rettype=\"gbwithparts\", retmode=\"text\", retmax = len(ids_list))\n",
    "my_genbank_records = SeqIO.parse(handle,\"genbank\")\n",
    "SeqIO.write(my_genbank_records, one_file, \"gb\")\n",
    "handle.close()\n",
    "one_file.close()"
   ]
  },
  {
   "cell_type": "code",
   "execution_count": null,
   "metadata": {
    "collapsed": true
   },
   "outputs": [],
   "source": []
  },
  {
   "cell_type": "code",
   "execution_count": null,
   "metadata": {
    "collapsed": true
   },
   "outputs": [],
   "source": []
  }
 ],
 "metadata": {
  "kernelspec": {
   "display_name": "Python 3",
   "language": "python",
   "name": "python3"
  },
  "language_info": {
   "codemirror_mode": {
    "name": "ipython",
    "version": 3
   },
   "file_extension": ".py",
   "mimetype": "text/x-python",
   "name": "python",
   "nbconvert_exporter": "python",
   "pygments_lexer": "ipython3",
   "version": "3.5.2"
  }
 },
 "nbformat": 4,
 "nbformat_minor": 1
}
