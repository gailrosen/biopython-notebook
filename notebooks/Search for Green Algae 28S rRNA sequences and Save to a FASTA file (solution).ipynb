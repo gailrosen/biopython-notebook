{
 "cells": [
  {
   "cell_type": "code",
   "execution_count": 7,
   "metadata": {
    "collapsed": false
   },
   "outputs": [],
   "source": [
    "'''\n",
    "How many results do you get when you search for full 28 rRNA genes that are over 700 bp from a a) nematode, b) a green algae species, and c) an ascomycete fungus?  (Give a different number for a, b, and c).  \n",
    "Please use Python to answer this – Hint:  print(records[‘Count’])\n",
    "'''\n",
    "from Bio import Entrez\n",
    "from Bio import SeqIO\n",
    "from Bio.Seq import Seq\n",
    "from Bio.SeqRecord import SeqRecord\n",
    "from Bio.Alphabet import generic_dna, generic_protein"
   ]
  },
  {
   "cell_type": "code",
   "execution_count": 9,
   "metadata": {
    "collapsed": true
   },
   "outputs": [],
   "source": [
    "Entrez.email = 'glr26@drexel.edu'"
   ]
  },
  {
   "cell_type": "code",
   "execution_count": 12,
   "metadata": {
    "collapsed": false
   },
   "outputs": [
    {
     "name": "stdout",
     "output_type": "stream",
     "text": [
      "Found  357  records\n",
      "Found  154  records\n",
      "Found  1203  records\n"
     ]
    }
   ],
   "source": [
    "handle = Entrez.esearch(db=\"nucleotide\", term=\"28S rRNA[gene] AND nematoda[ORGN] AND 700:2000[SLEN]\")\n",
    "records = Entrez.read(handle)\n",
    "handle.close()\n",
    "print(\"Found \",records['Count'],\" records\");\n",
    "\n",
    "handle = Entrez.esearch(db=\"nucleotide\", term=\"28S rRNA[gene] AND green algae[ORGN] AND 700:2000[SLEN]\")\n",
    "green_algae_records = Entrez.read(handle)\n",
    "handle.close()\n",
    "print(\"Found \",green_algae_records['Count'],\" records\");\n",
    "\n",
    "handle = Entrez.esearch(db=\"nucleotide\", term=\"28S rRNA[gene] AND ascomycota[ORGN] AND 700:2000[SLEN]\")\n",
    "records = Entrez.read(handle)\n",
    "handle.close()\n",
    "print(\"Found \",records['Count'],\" records\");"
   ]
  },
  {
   "cell_type": "code",
   "execution_count": 21,
   "metadata": {
    "collapsed": false
   },
   "outputs": [
    {
     "data": {
      "text/plain": [
       "'\\nSave all 28 rRNA genes that are over 700 bp from all green algae species to a file named “long_28rrna_greenalgae.fa”\\n'"
      ]
     },
     "execution_count": 21,
     "metadata": {},
     "output_type": "execute_result"
    }
   ],
   "source": [
    "'''\n",
    "Save all 28 rRNA genes that are over 700 bp from all green algae species to a file named “long_28rrna_greenalgae.fa”\n",
    "'''"
   ]
  },
  {
   "cell_type": "code",
   "execution_count": 33,
   "metadata": {
    "collapsed": false
   },
   "outputs": [],
   "source": [
    "#print(len(green_algae_records['IdList']))\n",
    "handle = Entrez.esearch(db=\"nucleotide\", term=\"28S rRNA[gene] AND green algae[ORGN] AND 700:2000[SLEN]\",retmax=green_algae_records['Count'])\n",
    "green_algae_records = Entrez.read(handle)\n",
    "handle.close()\n",
    "ID_list = ','.join(green_algae_records['IdList'])\n",
    "handle = Entrez.efetch(db=\"nucleotide\", id=ID_list, rettype=\"gb\", retmode=\"xml\")\n",
    "genbank_records = Entrez.read(handle)"
   ]
  },
  {
   "cell_type": "code",
   "execution_count": 34,
   "metadata": {
    "collapsed": true
   },
   "outputs": [],
   "source": [
    "fasta_records = []\n",
    "for i in range(len(genbank_records)):\n",
    "\tfasta_records.append(SeqRecord(Seq(genbank_records[i]['GBSeq_sequence']),id=genbank_records[i]['GBSeq_primary-accession'],description=genbank_records[i]['GBSeq_definition']))"
   ]
  },
  {
   "cell_type": "code",
   "execution_count": 35,
   "metadata": {
    "collapsed": true
   },
   "outputs": [],
   "source": [
    "long_file = open(\"long_28rrna_greenalgae.fasta\",\"w\")\n",
    "SeqIO.write(fasta_records, long_file, \"fasta\")\n",
    "long_file.close()"
   ]
  },
  {
   "cell_type": "code",
   "execution_count": null,
   "metadata": {
    "collapsed": true
   },
   "outputs": [],
   "source": []
  }
 ],
 "metadata": {
  "kernelspec": {
   "display_name": "Python 3",
   "language": "python",
   "name": "python3"
  },
  "language_info": {
   "codemirror_mode": {
    "name": "ipython",
    "version": 3
   },
   "file_extension": ".py",
   "mimetype": "text/x-python",
   "name": "python",
   "nbconvert_exporter": "python",
   "pygments_lexer": "ipython3",
   "version": "3.5.2"
  }
 },
 "nbformat": 4,
 "nbformat_minor": 1
}
