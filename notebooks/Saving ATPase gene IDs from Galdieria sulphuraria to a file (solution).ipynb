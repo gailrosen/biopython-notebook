{
 "cells": [
  {
   "cell_type": "code",
   "execution_count": null,
   "metadata": {
    "collapsed": true
   },
   "outputs": [],
   "source": [
    "'''\n",
    "Save all the Protein IDs of ATPase genes from the first Galdieria sulphuraria whole genome scaffold that you find.  \n",
    "Save them into a file called G_sulphuraria_atpase_ids.  \n",
    "\n",
    "Hint:  You are going to have to modify my “retrieve_nucleotide_genbank_example.py” to search for feature types of CDS then look for feature qualifiers of products that contain ATPase  (if  ‘ATPase’ in feature.qualifiers['product'][0]).  \n",
    "Hint #2:  Note that instead of extracting the DNA sequence, you will need to write the feature qualifier named ‘protein_id’ out to a file).\n",
    "\n",
    "'''"
   ]
  },
  {
   "cell_type": "code",
   "execution_count": 1,
   "metadata": {
    "collapsed": true
   },
   "outputs": [],
   "source": [
    "## Call appropriate modules to run BioPython and retreive NCBI data.\n",
    "from Bio import Entrez\n",
    "from Bio import SeqIO\n",
    "from Bio.Seq import Seq\n",
    "from Bio.SeqRecord import SeqRecord\n",
    "from Bio.Alphabet import generic_dna, generic_protein, IUPAC\n",
    "\n",
    "# Bypass NCBI email address input requirement.\n",
    "Entrez.email = 'thank_you_for_all_the_fish@drexel.edu'"
   ]
  },
  {
   "cell_type": "code",
   "execution_count": 2,
   "metadata": {
    "collapsed": false
   },
   "outputs": [
    {
     "name": "stdout",
     "output_type": "stream",
     "text": [
      "866\n"
     ]
    }
   ],
   "source": [
    "#Get the G. suphuraria whole genome\n",
    "handle = Entrez.esearch(db=\"nucleotide\", term=\"Galdieria sulphuraria[ORGN] AND whole genome scaffold\")\n",
    "records = Entrez.read(handle)\n",
    "handle.close()\n",
    "print(records['Count'])"
   ]
  },
  {
   "cell_type": "code",
   "execution_count": 3,
   "metadata": {
    "collapsed": true
   },
   "outputs": [],
   "source": [
    "#Get first record\n",
    "handle = Entrez.efetch(db=\"nucleotide\", id=records['IdList'][0], rettype=\"gb\", retmode=\"text\")\n",
    "record = SeqIO.read(handle, \"genbank\")\n",
    "handle.close()"
   ]
  },
  {
   "cell_type": "code",
   "execution_count": null,
   "metadata": {
    "collapsed": true
   },
   "outputs": [],
   "source": [
    "# Look for Coding regions\n",
    "ATPase_list = []\n",
    "for feature in record.features:\n",
    "    if feature.type == 'CDS':\n",
    "        if \"ATPase\" in feature.qualifiers[\"product\"][0]:\n",
    "            ATPase_list.append(feature.qualifiers[\"protein_id\"][0])"
   ]
  },
  {
   "cell_type": "code",
   "execution_count": null,
   "metadata": {
    "collapsed": true
   },
   "outputs": [],
   "source": [
    "#Output IDs to a file\n",
    "output_handle = open(\"Galdieria sulphuraria_atpase_ids\",\"w\")\n",
    "output_handle.write(\"\\n\".join(ATPase_list))\n",
    "output_handle.close()"
   ]
  }
 ],
 "metadata": {
  "kernelspec": {
   "display_name": "Python 3",
   "language": "python",
   "name": "python3"
  },
  "language_info": {
   "codemirror_mode": {
    "name": "ipython",
    "version": 3
   },
   "file_extension": ".py",
   "mimetype": "text/x-python",
   "name": "python",
   "nbconvert_exporter": "python",
   "pygments_lexer": "ipython3",
   "version": "3.5.2"
  }
 },
 "nbformat": 4,
 "nbformat_minor": 1
}
