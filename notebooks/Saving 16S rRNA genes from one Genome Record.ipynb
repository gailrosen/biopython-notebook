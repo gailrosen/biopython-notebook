{
 "cells": [
  {
   "cell_type": "code",
   "execution_count": 1,
   "metadata": {
    "collapsed": false
   },
   "outputs": [
    {
     "data": {
      "text/plain": [
       "'\\n\\nCode Adapted from (modified by Gail Rosen in 2014):\\nRetrieve Genbank entries from the nucleotide database at NCBI.\\n\\nThis file extracts all 16S rRNA genes from a Streptococcus pyogenes Manfredo complete genome\\n\\n-----------------------------------------------------------\\n(c) 2013 Allegra Via and Kristian Rother\\n    Licensed under the conditions of the Python License\\n\\n    This code appears in section 20.4.3 of the book\\n    \"Managing Biological Data with Python\".\\n-----------------------------------------------------------\\n'"
      ]
     },
     "execution_count": 1,
     "metadata": {},
     "output_type": "execute_result"
    }
   ],
   "source": [
    "'''\n",
    "\n",
    "Code Adapted from (modified by Gail Rosen in 2014):\n",
    "Retrieve Genbank entries from the nucleotide database at NCBI.\n",
    "\n",
    "This file extracts all 16S rRNA genes from a Streptococcus pyogenes Manfredo complete genome\n",
    "\n",
    "-----------------------------------------------------------\n",
    "(c) 2013 Allegra Via and Kristian Rother\n",
    "    Licensed under the conditions of the Python License\n",
    "\n",
    "    This code appears in section 20.4.3 of the book\n",
    "    \"Managing Biological Data with Python\".\n",
    "-----------------------------------------------------------\n",
    "'''"
   ]
  },
  {
   "cell_type": "code",
   "execution_count": 2,
   "metadata": {
    "collapsed": true
   },
   "outputs": [],
   "source": [
    "# Import Entrez, Seq input/output, Sequence, and bio.alphabet modules\n",
    "from Bio import Entrez\n",
    "from Bio import SeqIO\n",
    "from Bio import Seq\n",
    "\n",
    "# Can put any email address below\n",
    "Entrez.email = \"Aclass@drexel.edu\" "
   ]
  },
  {
   "cell_type": "code",
   "execution_count": 3,
   "metadata": {
    "collapsed": false
   },
   "outputs": [
    {
     "name": "stdout",
     "output_type": "stream",
     "text": [
      "1\n"
     ]
    }
   ],
   "source": [
    "handle = Entrez.esearch(db=\"nucleotide\", term=\"16S rRNA[gene] AND streptococcus[ORGN] AND Manfredo AND genome\")  # search sequences by a combination of keywords\n",
    "records = Entrez.read(handle)  #store records from search\n",
    "print(records['Count'])  #This prints how many results there are from your search"
   ]
  },
  {
   "cell_type": "code",
   "execution_count": 4,
   "metadata": {
    "collapsed": true
   },
   "outputs": [],
   "source": [
    "#This retrieves the Genbank record for the top result\n",
    "handle = Entrez.efetch(db=\"nucleotide\", id=records['IdList'][0], rettype=\"gb\", retmode=\"text\")\n",
    "record = SeqIO.read(handle, \"genbank\")\n",
    "handle.close()"
   ]
  },
  {
   "cell_type": "code",
   "execution_count": 5,
   "metadata": {
    "collapsed": true
   },
   "outputs": [],
   "source": [
    "#Initialize variables\n",
    "sixteen_s=[]\n",
    "seqs=[]\n",
    "locations=[]"
   ]
  },
  {
   "cell_type": "code",
   "execution_count": 6,
   "metadata": {
    "collapsed": false
   },
   "outputs": [
    {
     "name": "stdout",
     "output_type": "stream",
     "text": [
      "[17042:18549](+)\n",
      "['[17042:18549](+)']\n",
      "[23043:24550](+)\n",
      "['[17042:18549](+)', '[23043:24550](+)']\n",
      "[81667:83174](+)\n",
      "['[17042:18549](+)', '[23043:24550](+)', '[81667:83174](+)']\n",
      "[259013:260520](+)\n",
      "['[17042:18549](+)', '[23043:24550](+)', '[81667:83174](+)', '[259013:260520](+)']\n",
      "[504767:506274](+)\n",
      "['[17042:18549](+)', '[23043:24550](+)', '[81667:83174](+)', '[259013:260520](+)', '[504767:506274](+)']\n",
      "[1573011:1574518](-)\n",
      "['[17042:18549](+)', '[23043:24550](+)', '[81667:83174](+)', '[259013:260520](+)', '[504767:506274](+)', '[1573011:1574518](-)']\n",
      "6\n"
     ]
    }
   ],
   "source": [
    "#This goes through each feature of a genbank record (features are listed on the left of a Genbank record)\n",
    "for feature in record.features:\n",
    "\tif feature.type=='gene' or feature.type == 'rRNA':  #If the feature is a Gene or rRNA then\n",
    "\t\tif 'gene' in feature.qualifiers:  #This looks to see if /gene= exists in the second column\n",
    "\t\t\tif feature.qualifiers['gene'][0]=='16S rRNA':  #If the first occurrence of gene is /gene=\"16S rRNA\"\n",
    "\t\t\t\tif str(feature.location) not in locations:  #If the feature location is not already in the locations list\n",
    "\t\t\t\t\tprint(feature.location)\n",
    "\t\t\t\t\tlocations.append(str(feature.location))  #append the location to the locations list\n",
    "\t\t\t\t\tprint(locations)\n",
    "\t\t\t\t\tsixteen_s.append(feature)  # append the feature itself to a list of 16S features\n",
    "\t\t\t\t\tseqs.append(feature.extract(record.seq))  #We can also extract just the sequences\n",
    "\n",
    "print(len(sixteen_s))"
   ]
  },
  {
   "cell_type": "code",
   "execution_count": 7,
   "metadata": {
    "collapsed": true
   },
   "outputs": [],
   "source": [
    "output_handle=open(\"rRNAs.fa\",\"w\")\n",
    "\n",
    "#SeqIO.write(final, output_handle, \"fasta\")\n",
    "for i in range(len(seqs)):\n",
    "\toutput_handle.write(\">%s %s %s\\n%s\\n\" % (record.id,record.description,sixteen_s[i].location,str(seqs[i])))  #This outputs the record ID, description, location of the sequence and sequence itself to a file\n",
    "output_handle.close()"
   ]
  },
  {
   "cell_type": "code",
   "execution_count": null,
   "metadata": {
    "collapsed": true
   },
   "outputs": [],
   "source": []
  }
 ],
 "metadata": {
  "kernelspec": {
   "display_name": "Python 3",
   "language": "python",
   "name": "python3"
  },
  "language_info": {
   "codemirror_mode": {
    "name": "ipython",
    "version": 3
   },
   "file_extension": ".py",
   "mimetype": "text/x-python",
   "name": "python",
   "nbconvert_exporter": "python",
   "pygments_lexer": "ipython3",
   "version": "3.5.2"
  }
 },
 "nbformat": 4,
 "nbformat_minor": 1
}
